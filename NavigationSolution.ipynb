{
 "cells": [
  {
   "cell_type": "markdown",
   "metadata": {},
   "source": [
    "# Navigation\n",
    "\n",
    "\n",
    "\n",
    "### 1. Start the Environment\n",
    "\n",
    "Run the next code cell to install a few packages.  This line will take a few minutes to run!"
   ]
  },
  {
   "cell_type": "code",
   "execution_count": 1,
   "metadata": {},
   "outputs": [
    {
     "name": "stdout",
     "output_type": "stream",
     "text": [
      "\u001b[31mtensorflow 1.7.1 has requirement numpy>=1.13.3, but you'll have numpy 1.12.1 which is incompatible.\u001b[0m\r\n",
      "\u001b[31mipython 6.5.0 has requirement prompt-toolkit<2.0.0,>=1.0.15, but you'll have prompt-toolkit 2.0.9 which is incompatible.\u001b[0m\r\n"
     ]
    }
   ],
   "source": [
    "!pip -q install ./python"
   ]
  },
  {
   "cell_type": "markdown",
   "metadata": {},
   "source": [
    "Load the environment"
   ]
  },
  {
   "cell_type": "code",
   "execution_count": 2,
   "metadata": {},
   "outputs": [
    {
     "name": "stderr",
     "output_type": "stream",
     "text": [
      "INFO:unityagents:\n",
      "'Academy' started successfully!\n",
      "Unity Academy name: Academy\n",
      "        Number of Brains: 1\n",
      "        Number of External Brains : 1\n",
      "        Lesson number : 0\n",
      "        Reset Parameters :\n",
      "\t\t\n",
      "Unity brain name: BananaBrain\n",
      "        Number of Visual Observations (per agent): 0\n",
      "        Vector Observation space type: continuous\n",
      "        Vector Observation space size (per agent): 37\n",
      "        Number of stacked Vector Observation: 1\n",
      "        Vector Action space type: discrete\n",
      "        Vector Action space size (per agent): 4\n",
      "        Vector Action descriptions: , , , \n"
     ]
    }
   ],
   "source": [
    "from unityagents import UnityEnvironment\n",
    "import numpy as np\n",
    "\n",
    "\n",
    "env = UnityEnvironment(file_name=\"/data/Banana_Linux_NoVis/Banana.x86_64\")"
   ]
  },
  {
   "cell_type": "markdown",
   "metadata": {},
   "source": [
    "Environments contain **_brains_** which are responsible for deciding the actions of their associated agents. Here we check for the first brain available, and set it as the default brain we will be controlling from Python."
   ]
  },
  {
   "cell_type": "code",
   "execution_count": 3,
   "metadata": {},
   "outputs": [],
   "source": [
    "# get the default brain\n",
    "brain_name = env.brain_names[0]\n",
    "brain = env.brains[brain_name]\n",
    "env_info = env.reset(train_mode=True)[brain_name]"
   ]
  },
  {
   "cell_type": "markdown",
   "metadata": {},
   "source": [
    "### 2. Perform Online Training\n"
   ]
  },
  {
   "cell_type": "markdown",
   "metadata": {},
   "source": [
    "Define a function that trains the agent in the enviroment.\n",
    "\n",
    "The function trains the agent in the environment for the given number of episodes. The epsilon parameter is adjusted within the this function. "
   ]
  },
  {
   "cell_type": "code",
   "execution_count": 10,
   "metadata": {},
   "outputs": [],
   "source": [
    "def run_online_training(agent,n_episodes, epsilon_start, epsilon_decay, epsilon_min):\n",
    "\n",
    "    from collections import deque\n",
    "    import matplotlib.pyplot as plt \n",
    "    import torch\n",
    "    \n",
    "    epsilon = epsilon_start\n",
    "    scores = []                                        # all scores during exectuition\n",
    "    scores_average = []                                # moving average\n",
    "    scores_100 = deque(maxlen=100)                     # last 100 scores\n",
    "    solved = False\n",
    "\n",
    "    for i_episode in range(1, n_episodes + 1):\n",
    "        env_info = env.reset(train_mode=True)[brain_name] # reset the environment\n",
    "        state = env_info.vector_observations[0]            # get the current state\n",
    "        score = 0                                          # initialize the score\n",
    "\n",
    "        t=0\n",
    "        while True:\n",
    "            action = agent.act(state = state, eps = epsilon)             # select an \n",
    "            env_info = env.step(action)[brain_name]        # send the action to the environment\n",
    "            next_state = env_info.vector_observations[0]   # get the next state\n",
    "            reward = env_info.rewards[0]                   # get the reward\n",
    "            done = env_info.local_done[0]                  # see if episode has finished\n",
    "            score += reward                                # update the score\n",
    "            agent.step(state, action, reward, next_state, done)\n",
    "            state = next_state                             # roll over the state to next time step\n",
    "            epsilon = max(epsilon_min , epsilon * epsilon_decay)\n",
    "            t += 1\n",
    "\n",
    "\n",
    "            if done:                                       # exit loop if episode finished\n",
    "                break\n",
    "\n",
    "\n",
    "        scores.append(score)\n",
    "        scores_100.append(score)\n",
    "        scores_average.append(np.mean(scores_100))\n",
    "        if(i_episode==1 or i_episode%100 == 0 ):\n",
    "            print(\"Episode: {} , Moving Average Score: {}\".format(i_episode, np.mean(scores_100)))\n",
    "        if np.mean(scores_100) >= 13 and i_episode >= 100 and solved == False:\n",
    "            solved = True\n",
    "            solved_in = i_episode\n",
    "            print(\"Environment solved in {} episodes\".format(solved_in))\n",
    "            torch.save(agent.qnetwork_local.state_dict(), 'WeightsAtSolved.pth')\n",
    "\n",
    "\n",
    "    if solved == False:\n",
    "        print(\"Environnment not solved\")\n",
    "    else:\n",
    "        torch.save(agent.qnetwork_local.state_dict(), 'FinalWeights.pth')\n",
    "    \n",
    "    return scores, scores_average"
   ]
  },
  {
   "cell_type": "markdown",
   "metadata": {},
   "source": [
    "Load the agent from agent.py and run online training.\n",
    "\n",
    "The agent uses a dueling network architecture defined in model.py to estimate Q.\n",
    "\n"
   ]
  },
  {
   "cell_type": "code",
   "execution_count": 11,
   "metadata": {},
   "outputs": [
    {
     "name": "stdout",
     "output_type": "stream",
     "text": [
      "Episode: 1 , Moving Average Score: -1.0\n",
      "Episode: 100 , Moving Average Score: 3.27\n",
      "Episode: 200 , Moving Average Score: 6.62\n",
      "Episode: 300 , Moving Average Score: 9.9\n",
      "Environment solved in 381 episodes\n",
      "Episode: 400 , Moving Average Score: 13.99\n",
      "Episode: 500 , Moving Average Score: 15.49\n",
      "Episode: 600 , Moving Average Score: 16.12\n",
      "Episode: 700 , Moving Average Score: 15.62\n"
     ]
    }
   ],
   "source": [
    "from agent import Agent\n",
    "agent = Agent(state_size= len(env_info.vector_observations[0]), \n",
    "              action_size= brain.vector_action_space_size, \n",
    "              seed=0, \n",
    "              double_update = True,\n",
    "              buffer_size = int(1e5),\n",
    "              batch_size = 64,\n",
    "              gamma = 0.99,\n",
    "              tau = 1e-3,\n",
    "              lr = 5e-4,\n",
    "              update_every = 4)\n",
    "    \n",
    "scores, scores_average = run_online_training(agent = agent, n_episodes = 700, epsilon_start = 0.1, epsilon_decay = 0.99, epsilon_min =0.01)"
   ]
  },
  {
   "cell_type": "markdown",
   "metadata": {},
   "source": [
    "### 3. Results\n",
    "\n",
    "Plot the scores and moving average against the episode "
   ]
  },
  {
   "cell_type": "code",
   "execution_count": 12,
   "metadata": {},
   "outputs": [
    {
     "data": {
      "image/png": "[encoded data removed]",
      "text/plain": [
       "<matplotlib.figure.Figure at 0x7fa8fd2e5550>"
      ]
     },
     "metadata": {
      "needs_background": "light"
     },
     "output_type": "display_data"
    }
   ],
   "source": [
    "# plot the scores\n",
    "import matplotlib.pyplot as plt \n",
    "fig = plt.figure()\n",
    "ax = fig.add_subplot(111)\n",
    "plt.plot(np.arange(len(scores)), scores, label = \"Score\")\n",
    "plt.plot(np.arange(len(scores_average)), scores_average, label = \"Moving Average\")\n",
    "plt.ylabel('Score')\n",
    "plt.xlabel('Episode #')\n",
    "plt.legend(loc='upper left');\n",
    "plt.show()"
   ]
  }
 ],
 "metadata": {
  "kernelspec": {
   "display_name": "Python 3",
   "language": "python",
   "name": "python3"
  },
  "language_info": {
   "codemirror_mode": {
    "name": "ipython",
    "version": 3
   },
   "file_extension": ".py",
   "mimetype": "text/x-python",
   "name": "python",
   "nbconvert_exporter": "python",
   "pygments_lexer": "ipython3",
   "version": "3.6.3"
  }
 },
 "nbformat": 4,
 "nbformat_minor": 2
}
